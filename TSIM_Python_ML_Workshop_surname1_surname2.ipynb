{
 "cells": [
  {
   "cell_type": "markdown",
   "metadata": {
    "colab_type": "text",
    "id": "view-in-github"
   },
   "source": [
    "<a href=\"https://colab.research.google.com/github/benedetta-c/workshop_tsim/blob/main/TSIM_Python_ML_Workshop_surname1_surname2.ipynb\" target=\"_parent\"><img src=\"https://colab.research.google.com/assets/colab-badge.svg\" alt=\"Open In Colab\"/></a>"
   ]
  },
  {
   "cell_type": "markdown",
   "metadata": {
    "id": "kvMNe0-LOE8S"
   },
   "source": [
    "# ***Advanced Methods in Medical Signals and Images: Python & ML Workshop***"
   ]
  },
  {
   "cell_type": "markdown",
   "metadata": {
    "id": "Ahg6phv4Oz9A"
   },
   "source": [
    "Welcome to the Python & ML Workshop of the subject, where you will learn how to perform some data science tasks in Python by using Google Colab and multiple commonly-used libraries."
   ]
  },
  {
   "cell_type": "markdown",
   "metadata": {
    "id": "cGz1hyQg3Fhz"
   },
   "source": [
    "To get started, follow the following steps:\n",
    "\n",
    "1.   Sign in with your Google account (upper left button)\n",
    "1.   Click in *File/Save a copy in Drive*\n",
    "2.   Change the name of the norbook by double clicking in the name of the file (upper right field), with the format TSIM_Python_ML_Workshop_surname1_surname2.ipynb\n",
    "3. Click on *Connect* (upper left corner)\n",
    "4. Now you can start editing the notebook! The modified notebook will be saved in your Drive account. When you are finished, click on *File/Download .ipynb* to export the file and upload it to Moodle.\n",
    "\n"
   ]
  },
  {
   "cell_type": "markdown",
   "metadata": {
    "id": "efXT5Tcz1mku"
   },
   "source": [
    "Double click here to edit your name and surname\n",
    "\n",
    "**NAME AND SURNAME:**\n",
    "\n",
    "**NAME AND SURNAME:**"
   ]
  },
  {
   "cell_type": "markdown",
   "metadata": {
    "colab_type": "toc",
    "id": "VQ9odFwXA_Nz"
   },
   "source": [
    "[Advanced Methods in Medical Signals and Images: Python & ML Workshop](#scrollTo=kvMNe0-LOE8S)\n",
    "\n",
    ">[PART 1 - Exploring Survival on Titanic](#scrollTo=GDt0sTITEO3y)\n",
    "\n",
    ">>[1.1 - Load dataset](#scrollTo=8TpbPOtrGFm5)\n",
    "\n",
    ">>[1.2 - Preview dataset](#scrollTo=e7m5MqP1HhI3)\n",
    "\n",
    ">>>[1.2.1 - Generate descriptive statistics](#scrollTo=pcLKNDYxH0EA)\n",
    "\n",
    ">>>[1.2.2 - Show null columns](#scrollTo=zOO7AtBcH_Af)\n",
    "\n",
    ">>>[1.2.3 - Show missing values](#scrollTo=atq79PlDIGdg)\n",
    "\n",
    ">>>[1.2.4 - Visualize the target variable](#scrollTo=62tvtD7RIdDP)\n",
    "\n",
    ">>>[1.2.5 - Survival by age](#scrollTo=q2ffHEzDI3mv)\n",
    "\n",
    ">>>[1.2.6 - Survival by gender](#scrollTo=uRZYWa1SJAz_)\n",
    "\n",
    ">>>[1.2.7 - Survivers by class](#scrollTo=2BOrU0_CJKXH)\n",
    "\n",
    ">>>[1.2.8 - Survivers by port of embarkation](#scrollTo=0o8DJpIrJi-3)\n",
    "\n",
    ">>[1.3 - Initiate independent and dependent variables](#scrollTo=uYthnGhRJwC3)\n",
    "\n",
    ">>[1.4 - Feature engineering](#scrollTo=iKxL9XUkLUoe)\n",
    "\n",
    ">>[1.5 - Preprocess data with Scikit-Learn](#scrollTo=ZlcT_2sYLrfG)\n",
    "\n",
    ">>>[1.5.1 - Remove features that we don't want](#scrollTo=m73cqs6TL6xf)\n",
    "\n",
    ">>>[1.5.2 - Fill missing values (imputation)](#scrollTo=4MNGqyx-MCcr)\n",
    "\n",
    ">>>[1.5.3 - Handle categorical data](#scrollTo=C7oOTsHfMCgq)\n",
    "\n",
    ">>>[1.5.4 - Scale numeric data](#scrollTo=hNM6IsTKMCkm)\n",
    "\n",
    ">>[1.6 - Split into Training and Testing Sets](#scrollTo=fCjR5C2pOUdl)\n",
    "\n",
    ">>[1.7 - Classification task](#scrollTo=Htes449IPIxN)\n",
    "\n",
    ">>>[1.7.1 - Create classifiers](#scrollTo=qIX_n0_JQz80)\n",
    "\n",
    ">>>[1.7.2 - Train classifiers](#scrollTo=IA-KA9ECQ2jl)\n",
    "\n",
    ">>>[1.7.3 - Measure performance of the model](#scrollTo=Ck8VOySeR7xr)\n",
    "\n",
    ">[PART 2 - A quick glance at manual feature extraction](#scrollTo=Bp1EsomzEq0x)\n",
    "\n",
    ">>[2.1 - Load images](#scrollTo=skn-WikqWxVx)\n",
    "\n",
    ">>[2.2 - Preprocess images](#scrollTo=e425sDr7W1K5)\n",
    "\n",
    ">>[2.3 - Visualize images](#scrollTo=j5YE_zaXY44o)\n",
    "\n",
    ">>[2.4 - Manual extraction of features](#scrollTo=uhMAdCcsZfbv)\n",
    "\n",
    ">>[2.5 - Visualize features extracted](#scrollTo=QQOAGoJ4cJ19)\n",
    "\n",
    ">[PART 3 - Playing aroung with a Multilayer Perceptron (MLP) and training parameters](#scrollTo=3KO0Q0XxkAPo)\n",
    "\n",
    ">[[RECOMMENDED] Useful Resources](#scrollTo=ffL-F9Eekfzu)\n",
    "\n"
   ]
  },
  {
   "cell_type": "markdown",
   "metadata": {
    "id": "E0Nv78xa_jCr"
   },
   "source": []
  },
  {
   "cell_type": "markdown",
   "metadata": {
    "id": "CigfDlgaE73p"
   },
   "source": [
    "Below are some packages we are going to use in this workshop:"
   ]
  },
  {
   "cell_type": "code",
   "execution_count": 31,
   "metadata": {
    "id": "XTQgbTgjFDeJ"
   },
   "outputs": [],
   "source": [
    "import numpy as np\n",
    "import pandas as pd\n",
    "import matplotlib.pyplot as plt\n",
    "import seaborn as sns\n",
    "from sklearn.datasets import fetch_openml\n",
    "import cv2"
   ]
  },
  {
   "cell_type": "markdown",
   "metadata": {
    "id": "GDt0sTITEO3y"
   },
   "source": [
    "# PART 1 - Exploring Survival on Titanic"
   ]
  },
  {
   "cell_type": "markdown",
   "metadata": {
    "id": "8TpbPOtrGFm5"
   },
   "source": [
    "## 1.1 - Load dataset"
   ]
  },
  {
   "cell_type": "markdown",
   "metadata": {
    "id": "qMUblGBCGnzh"
   },
   "source": [
    "Here, we are going to load the Titanic dataset and store them in a Pandas Dataframe (see more info about DataFrames [here](https://pandas.pydata.org/docs/reference/api/pandas.DataFrame.html)), which we will call `df`. `df` has both the input information and the ground truth label of what we want to estimate, the survival (column `target`)."
   ]
  },
  {
   "cell_type": "code",
   "execution_count": 32,
   "metadata": {
    "id": "i7JDwWwzEpoo"
   },
   "outputs": [],
   "source": [
    "# Load dataset\n",
    "titanic = fetch_openml('titanic', version=1, as_frame=True)\n",
    "df = titanic['data']\n",
    "df['survived'] = titanic['target']"
   ]
  },
  {
   "cell_type": "markdown",
   "metadata": {
    "id": "e7m5MqP1HhI3"
   },
   "source": [
    "## 1.2 - Preview dataset"
   ]
  },
  {
   "cell_type": "markdown",
   "metadata": {
    "id": "HUZPuO9mHk33"
   },
   "source": [
    "Let's start by undestanding our dataset. In order to print the three first entries of our dataframe, we will use the `head` method. If we only put `df` (the DataFrame itself), we will print as many entries as we can via `stdout` (standard output), which sometimes may be messy due to all the data we have."
   ]
  },
  {
   "cell_type": "code",
   "execution_count": 33,
   "metadata": {
    "id": "8R7PGiwfHaFX"
   },
   "outputs": [
    {
     "data": {
      "text/html": [
       "<div>\n",
       "<style scoped>\n",
       "    .dataframe tbody tr th:only-of-type {\n",
       "        vertical-align: middle;\n",
       "    }\n",
       "\n",
       "    .dataframe tbody tr th {\n",
       "        vertical-align: top;\n",
       "    }\n",
       "\n",
       "    .dataframe thead th {\n",
       "        text-align: right;\n",
       "    }\n",
       "</style>\n",
       "<table border=\"1\" class=\"dataframe\">\n",
       "  <thead>\n",
       "    <tr style=\"text-align: right;\">\n",
       "      <th></th>\n",
       "      <th>pclass</th>\n",
       "      <th>name</th>\n",
       "      <th>sex</th>\n",
       "      <th>age</th>\n",
       "      <th>sibsp</th>\n",
       "      <th>parch</th>\n",
       "      <th>ticket</th>\n",
       "      <th>fare</th>\n",
       "      <th>cabin</th>\n",
       "      <th>embarked</th>\n",
       "      <th>boat</th>\n",
       "      <th>body</th>\n",
       "      <th>home.dest</th>\n",
       "      <th>survived</th>\n",
       "    </tr>\n",
       "  </thead>\n",
       "  <tbody>\n",
       "    <tr>\n",
       "      <th>0</th>\n",
       "      <td>1</td>\n",
       "      <td>Allen, Miss. Elisabeth Walton</td>\n",
       "      <td>female</td>\n",
       "      <td>29.0000</td>\n",
       "      <td>0</td>\n",
       "      <td>0</td>\n",
       "      <td>24160</td>\n",
       "      <td>211.3375</td>\n",
       "      <td>B5</td>\n",
       "      <td>S</td>\n",
       "      <td>2</td>\n",
       "      <td>NaN</td>\n",
       "      <td>St Louis, MO</td>\n",
       "      <td>1</td>\n",
       "    </tr>\n",
       "    <tr>\n",
       "      <th>1</th>\n",
       "      <td>1</td>\n",
       "      <td>Allison, Master. Hudson Trevor</td>\n",
       "      <td>male</td>\n",
       "      <td>0.9167</td>\n",
       "      <td>1</td>\n",
       "      <td>2</td>\n",
       "      <td>113781</td>\n",
       "      <td>151.5500</td>\n",
       "      <td>C22 C26</td>\n",
       "      <td>S</td>\n",
       "      <td>11</td>\n",
       "      <td>NaN</td>\n",
       "      <td>Montreal, PQ / Chesterville, ON</td>\n",
       "      <td>1</td>\n",
       "    </tr>\n",
       "    <tr>\n",
       "      <th>2</th>\n",
       "      <td>1</td>\n",
       "      <td>Allison, Miss. Helen Loraine</td>\n",
       "      <td>female</td>\n",
       "      <td>2.0000</td>\n",
       "      <td>1</td>\n",
       "      <td>2</td>\n",
       "      <td>113781</td>\n",
       "      <td>151.5500</td>\n",
       "      <td>C22 C26</td>\n",
       "      <td>S</td>\n",
       "      <td>NaN</td>\n",
       "      <td>NaN</td>\n",
       "      <td>Montreal, PQ / Chesterville, ON</td>\n",
       "      <td>0</td>\n",
       "    </tr>\n",
       "  </tbody>\n",
       "</table>\n",
       "</div>"
      ],
      "text/plain": [
       "   pclass                            name     sex      age  sibsp  parch  \\\n",
       "0       1   Allen, Miss. Elisabeth Walton  female  29.0000      0      0   \n",
       "1       1  Allison, Master. Hudson Trevor    male   0.9167      1      2   \n",
       "2       1    Allison, Miss. Helen Loraine  female   2.0000      1      2   \n",
       "\n",
       "   ticket      fare    cabin embarked boat  body  \\\n",
       "0   24160  211.3375       B5        S    2   NaN   \n",
       "1  113781  151.5500  C22 C26        S   11   NaN   \n",
       "2  113781  151.5500  C22 C26        S  NaN   NaN   \n",
       "\n",
       "                         home.dest survived  \n",
       "0                     St Louis, MO        1  \n",
       "1  Montreal, PQ / Chesterville, ON        1  \n",
       "2  Montreal, PQ / Chesterville, ON        0  "
      ]
     },
     "execution_count": 33,
     "metadata": {},
     "output_type": "execute_result"
    }
   ],
   "source": [
    "df.head(3)"
   ]
  },
  {
   "cell_type": "code",
   "execution_count": 34,
   "metadata": {
    "id": "7x9Jtzc0H6Eg"
   },
   "outputs": [
    {
     "data": {
      "text/plain": [
       "Index(['pclass', 'name', 'sex', 'age', 'sibsp', 'parch', 'ticket', 'fare',\n",
       "       'cabin', 'embarked', 'boat', 'body', 'home.dest', 'survived'],\n",
       "      dtype='object')"
      ]
     },
     "execution_count": 34,
     "metadata": {},
     "output_type": "execute_result"
    }
   ],
   "source": [
    "df.columns"
   ]
  },
  {
   "cell_type": "markdown",
   "metadata": {
    "id": "pcLKNDYxH0EA"
   },
   "source": [
    "### 1.2.1 - Generate descriptive statistics"
   ]
  },
  {
   "cell_type": "code",
   "execution_count": 35,
   "metadata": {
    "id": "LIg50jG_HwV2"
   },
   "outputs": [
    {
     "data": {
      "text/html": [
       "<div>\n",
       "<style scoped>\n",
       "    .dataframe tbody tr th:only-of-type {\n",
       "        vertical-align: middle;\n",
       "    }\n",
       "\n",
       "    .dataframe tbody tr th {\n",
       "        vertical-align: top;\n",
       "    }\n",
       "\n",
       "    .dataframe thead th {\n",
       "        text-align: right;\n",
       "    }\n",
       "</style>\n",
       "<table border=\"1\" class=\"dataframe\">\n",
       "  <thead>\n",
       "    <tr style=\"text-align: right;\">\n",
       "      <th></th>\n",
       "      <th>pclass</th>\n",
       "      <th>age</th>\n",
       "      <th>sibsp</th>\n",
       "      <th>parch</th>\n",
       "      <th>fare</th>\n",
       "      <th>body</th>\n",
       "    </tr>\n",
       "  </thead>\n",
       "  <tbody>\n",
       "    <tr>\n",
       "      <th>count</th>\n",
       "      <td>1309.000000</td>\n",
       "      <td>1046.000000</td>\n",
       "      <td>1309.000000</td>\n",
       "      <td>1309.000000</td>\n",
       "      <td>1308.000000</td>\n",
       "      <td>121.000000</td>\n",
       "    </tr>\n",
       "    <tr>\n",
       "      <th>mean</th>\n",
       "      <td>2.294882</td>\n",
       "      <td>29.881135</td>\n",
       "      <td>0.498854</td>\n",
       "      <td>0.385027</td>\n",
       "      <td>33.295479</td>\n",
       "      <td>160.809917</td>\n",
       "    </tr>\n",
       "    <tr>\n",
       "      <th>std</th>\n",
       "      <td>0.837836</td>\n",
       "      <td>14.413500</td>\n",
       "      <td>1.041658</td>\n",
       "      <td>0.865560</td>\n",
       "      <td>51.758668</td>\n",
       "      <td>97.696922</td>\n",
       "    </tr>\n",
       "    <tr>\n",
       "      <th>min</th>\n",
       "      <td>1.000000</td>\n",
       "      <td>0.166700</td>\n",
       "      <td>0.000000</td>\n",
       "      <td>0.000000</td>\n",
       "      <td>0.000000</td>\n",
       "      <td>1.000000</td>\n",
       "    </tr>\n",
       "    <tr>\n",
       "      <th>25%</th>\n",
       "      <td>2.000000</td>\n",
       "      <td>21.000000</td>\n",
       "      <td>0.000000</td>\n",
       "      <td>0.000000</td>\n",
       "      <td>7.895800</td>\n",
       "      <td>72.000000</td>\n",
       "    </tr>\n",
       "    <tr>\n",
       "      <th>50%</th>\n",
       "      <td>3.000000</td>\n",
       "      <td>28.000000</td>\n",
       "      <td>0.000000</td>\n",
       "      <td>0.000000</td>\n",
       "      <td>14.454200</td>\n",
       "      <td>155.000000</td>\n",
       "    </tr>\n",
       "    <tr>\n",
       "      <th>75%</th>\n",
       "      <td>3.000000</td>\n",
       "      <td>39.000000</td>\n",
       "      <td>1.000000</td>\n",
       "      <td>0.000000</td>\n",
       "      <td>31.275000</td>\n",
       "      <td>256.000000</td>\n",
       "    </tr>\n",
       "    <tr>\n",
       "      <th>max</th>\n",
       "      <td>3.000000</td>\n",
       "      <td>80.000000</td>\n",
       "      <td>8.000000</td>\n",
       "      <td>9.000000</td>\n",
       "      <td>512.329200</td>\n",
       "      <td>328.000000</td>\n",
       "    </tr>\n",
       "  </tbody>\n",
       "</table>\n",
       "</div>"
      ],
      "text/plain": [
       "            pclass          age        sibsp        parch         fare  \\\n",
       "count  1309.000000  1046.000000  1309.000000  1309.000000  1308.000000   \n",
       "mean      2.294882    29.881135     0.498854     0.385027    33.295479   \n",
       "std       0.837836    14.413500     1.041658     0.865560    51.758668   \n",
       "min       1.000000     0.166700     0.000000     0.000000     0.000000   \n",
       "25%       2.000000    21.000000     0.000000     0.000000     7.895800   \n",
       "50%       3.000000    28.000000     0.000000     0.000000    14.454200   \n",
       "75%       3.000000    39.000000     1.000000     0.000000    31.275000   \n",
       "max       3.000000    80.000000     8.000000     9.000000   512.329200   \n",
       "\n",
       "             body  \n",
       "count  121.000000  \n",
       "mean   160.809917  \n",
       "std     97.696922  \n",
       "min      1.000000  \n",
       "25%     72.000000  \n",
       "50%    155.000000  \n",
       "75%    256.000000  \n",
       "max    328.000000  "
      ]
     },
     "execution_count": 35,
     "metadata": {},
     "output_type": "execute_result"
    }
   ],
   "source": [
    "df.describe()"
   ]
  },
  {
   "cell_type": "markdown",
   "metadata": {
    "id": "zOO7AtBcH_Af"
   },
   "source": [
    "### 1.2.2 - Show null columns"
   ]
  },
  {
   "cell_type": "code",
   "execution_count": 36,
   "metadata": {
    "id": "5cAcEMxJHuEG"
   },
   "outputs": [
    {
     "name": "stdout",
     "output_type": "stream",
     "text": [
      "<class 'pandas.core.frame.DataFrame'>\n",
      "RangeIndex: 1309 entries, 0 to 1308\n",
      "Data columns (total 14 columns):\n",
      " #   Column     Non-Null Count  Dtype   \n",
      "---  ------     --------------  -----   \n",
      " 0   pclass     1309 non-null   int64   \n",
      " 1   name       1309 non-null   object  \n",
      " 2   sex        1309 non-null   category\n",
      " 3   age        1046 non-null   float64 \n",
      " 4   sibsp      1309 non-null   int64   \n",
      " 5   parch      1309 non-null   int64   \n",
      " 6   ticket     1309 non-null   object  \n",
      " 7   fare       1308 non-null   float64 \n",
      " 8   cabin      295 non-null    object  \n",
      " 9   embarked   1307 non-null   category\n",
      " 10  boat       486 non-null    object  \n",
      " 11  body       121 non-null    float64 \n",
      " 12  home.dest  745 non-null    object  \n",
      " 13  survived   1309 non-null   category\n",
      "dtypes: category(3), float64(3), int64(3), object(5)\n",
      "memory usage: 116.8+ KB\n"
     ]
    }
   ],
   "source": [
    "df.info()"
   ]
  },
  {
   "cell_type": "markdown",
   "metadata": {
    "id": "atq79PlDIGdg"
   },
   "source": [
    "### 1.2.3 - Show missing values"
   ]
  },
  {
   "cell_type": "code",
   "execution_count": 37,
   "metadata": {
    "id": "lCcHbd2lILpw"
   },
   "outputs": [
    {
     "data": {
      "text/plain": [
       "pclass          0\n",
       "name            0\n",
       "sex             0\n",
       "age           263\n",
       "sibsp           0\n",
       "parch           0\n",
       "ticket          0\n",
       "fare            1\n",
       "cabin        1014\n",
       "embarked        2\n",
       "boat          823\n",
       "body         1188\n",
       "home.dest     564\n",
       "survived        0\n",
       "dtype: int64"
      ]
     },
     "execution_count": 37,
     "metadata": {},
     "output_type": "execute_result"
    }
   ],
   "source": [
    "df.isnull().sum()"
   ]
  },
  {
   "cell_type": "markdown",
   "metadata": {
    "id": "w5W97GwqIQtQ"
   },
   "source": [
    "As we can observe, a lot of columns are missing values. Let's visualize this better:"
   ]
  },
  {
   "cell_type": "code",
   "execution_count": 38,
   "metadata": {
    "id": "7OYXbEAhIQRI"
   },
   "outputs": [
    {
     "data": {
      "image/png": "[encoded data removed]",
      "text/plain": [
       "<Figure size 640x480 with 1 Axes>"
      ]
     },
     "metadata": {},
     "output_type": "display_data"
    }
   ],
   "source": [
    "miss_vals = pd.DataFrame(df.isnull().sum() / len(df) * 100)\n",
    "miss_vals.plot(kind='bar',\n",
    "    title='Missing values in percentage',\n",
    "    ylabel='percentage'\n",
    "    )\n",
    "\n",
    "plt.show()"
   ]
  },
  {
   "cell_type": "markdown",
   "metadata": {
    "id": "62tvtD7RIdDP"
   },
   "source": [
    "### 1.2.4 - Visualize the target variable"
   ]
  },
  {
   "cell_type": "code",
   "execution_count": 39,
   "metadata": {
    "id": "AaOaKFOpIkbX"
   },
   "outputs": [
    {
     "data": {
      "image/png": "[encoded data removed]",
      "text/plain": [
       "<Figure size 640x480 with 1 Axes>"
      ]
     },
     "metadata": {},
     "output_type": "display_data"
    }
   ],
   "source": [
    "df.survived.value_counts().plot(kind='bar')\n",
    "\n",
    "plt.xlabel('Survival')\n",
    "plt.ylabel('# of passengers')\n",
    "plt.title('Number of passengers based on their survival')\n",
    "plt.show()"
   ]
  },
  {
   "cell_type": "markdown",
   "metadata": {
    "id": "q2ffHEzDI3mv"
   },
   "source": [
    "### 1.2.5 - Survival by age"
   ]
  },
  {
   "cell_type": "code",
   "execution_count": 40,
   "metadata": {
    "id": "HoGDMDGOI7aX"
   },
   "outputs": [
    {
     "data": {
      "image/png": "[encoded data removed]",
      "text/plain": [
       "<Figure size 640x480 with 1 Axes>"
      ]
     },
     "metadata": {},
     "output_type": "display_data"
    }
   ],
   "source": [
    "fig, ax = plt.subplots()\n",
    "\n",
    "ax.hist(df['age'][df.survived == '0'].dropna(), label='Not survived')\n",
    "ax.hist(df['age'][df.survived == '1'].dropna(), label='Survived')\n",
    "\n",
    "plt.xlabel('Age')\n",
    "plt.ylabel('Survival count')\n",
    "plt.title('Survivals by age')\n",
    "plt.legend()\n",
    "plt.show()"
   ]
  },
  {
   "cell_type": "markdown",
   "metadata": {
    "id": "uRZYWa1SJAz_"
   },
   "source": [
    "### 1.2.6 - Survival by gender"
   ]
  },
  {
   "cell_type": "code",
   "execution_count": 41,
   "metadata": {
    "id": "xJv-p5RsJDHP"
   },
   "outputs": [
    {
     "data": {
      "image/png": "[encoded data removed]",
      "text/plain": [
       "<Figure size 640x480 with 1 Axes>"
      ]
     },
     "metadata": {},
     "output_type": "display_data"
    }
   ],
   "source": [
    "df['survived'] = df.survived.astype('int')\n",
    "\n",
    "sns.barplot(\n",
    "    x='sex',\n",
    "    y='survived',\n",
    "    data=df\n",
    ")\n",
    "\n",
    "plt.title('Survival by gender')\n",
    "plt.show()"
   ]
  },
  {
   "cell_type": "markdown",
   "metadata": {
    "id": "2BOrU0_CJKXH"
   },
   "source": [
    "### 1.2.7 - Survivers by class"
   ]
  },
  {
   "cell_type": "markdown",
   "metadata": {
    "id": "cPFA9m_dJQTf"
   },
   "source": [
    "We can visualize survivers by class wither by counting them (absolute) or by using a percentage of the total (relative)"
   ]
  },
  {
   "cell_type": "code",
   "execution_count": 42,
   "metadata": {
    "id": "JS4P67mvJMmg"
   },
   "outputs": [
    {
     "data": {
      "image/png": "[encoded data removed]",
      "text/plain": [
       "<Figure size 640x480 with 1 Axes>"
      ]
     },
     "metadata": {},
     "output_type": "display_data"
    }
   ],
   "source": [
    "sns.countplot(x='pclass', data=df)\n",
    "plt.title('Unique survivers by class (absolute)')\n",
    "plt.show()"
   ]
  },
  {
   "cell_type": "code",
   "execution_count": 43,
   "metadata": {
    "id": "iS0q3yDgJaPQ"
   },
   "outputs": [
    {
     "data": {
      "image/png": "[encoded data removed]",
      "text/plain": [
       "<Figure size 640x480 with 1 Axes>"
      ]
     },
     "metadata": {},
     "output_type": "display_data"
    }
   ],
   "source": [
    "sns.barplot(x='pclass', y='survived', data=df)\n",
    "plt.title('Percent survivers by class (relative)')\n",
    "plt.show()"
   ]
  },
  {
   "cell_type": "markdown",
   "metadata": {
    "id": "0o8DJpIrJi-3"
   },
   "source": [
    "### 1.2.8 - Survivers by port of embarkation"
   ]
  },
  {
   "cell_type": "code",
   "execution_count": 44,
   "metadata": {
    "id": "wu2DaRr0JnvH"
   },
   "outputs": [
    {
     "data": {
      "image/png": "[encoded data removed]",
      "text/plain": [
       "<Figure size 640x480 with 1 Axes>"
      ]
     },
     "metadata": {},
     "output_type": "display_data"
    }
   ],
   "source": [
    "sns.barplot(x='embarked', y='survived', data=df)\n",
    "plt.title('Percent survivers by port of embarkation')\n",
    "plt.show()"
   ]
  },
  {
   "cell_type": "markdown",
   "metadata": {
    "id": "uYthnGhRJwC3"
   },
   "source": [
    "## 1.3 - Initiate independent and dependent variables"
   ]
  },
  {
   "cell_type": "markdown",
   "metadata": {
    "id": "PqVYZiTkKGrn"
   },
   "source": [
    "Classification algorithms will try to classify targets (dependent variables) using the features (independent variables) as predictors.\n",
    "\n",
    "Here, the column that we want to make a prediction on is the column that states whether or not the passenger survived (column name = `target`).\n",
    "\n",
    "We can assign the features to **`X`** by using the `drop` method to keep all columns except the target and assigning the target to **`y`**."
   ]
  },
  {
   "cell_type": "code",
   "execution_count": 45,
   "metadata": {
    "id": "2Szb-82rKckP"
   },
   "outputs": [],
   "source": [
    "# Assign Dependent and Independent variables\n",
    "X = df.drop('survived', axis=1)\n",
    "y = df['survived']"
   ]
  },
  {
   "cell_type": "markdown",
   "metadata": {
    "id": "iKxL9XUkLUoe"
   },
   "source": [
    "## 1.4 - Feature engineering"
   ]
  },
  {
   "cell_type": "markdown",
   "metadata": {
    "id": "WWIBCgfBLcJe"
   },
   "source": [
    "Some features don’t have much meaning when used alone. However, we can give them meaning by looking at the context.\n",
    "\n",
    "For example, the `sibsp` and `parch` columns tell you if the passenger was travelling with siblings, parents or children. By combining these features, you can infer if the passenger was travelling alone, and see if that impacted the chances of survival."
   ]
  },
  {
   "cell_type": "code",
   "execution_count": 46,
   "metadata": {
    "id": "vst6a06NLbze"
   },
   "outputs": [
    {
     "data": {
      "image/png": "[encoded data removed]",
      "text/plain": [
       "<Figure size 640x480 with 1 Axes>"
      ]
     },
     "metadata": {},
     "output_type": "display_data"
    }
   ],
   "source": [
    "X['family'] = X['sibsp'] + X['parch']\n",
    "X.loc[X['family'] > 0, 'travelled_alone'] = 0\n",
    "X.loc[X['family'] == 0, 'travelled_alone'] = 1\n",
    "X.drop(['family', 'sibsp', 'parch'], axis=1, inplace=True)\n",
    "sns.countplot(x='travelled_alone', data=X)\n",
    "plt.title('Number of passengers travelling alone')\n",
    "plt.show()"
   ]
  },
  {
   "cell_type": "markdown",
   "metadata": {
    "id": "ZlcT_2sYLrfG"
   },
   "source": [
    "## 1.5 - Preprocess data with Scikit-Learn"
   ]
  },
  {
   "cell_type": "markdown",
   "metadata": {
    "id": "3a1473n5MtCF"
   },
   "source": [
    "In this section, we will use Scikit-Learn. For further information, [here](https://scikit-learn.org/stable/) is their official webpage."
   ]
  },
  {
   "cell_type": "markdown",
   "metadata": {
    "id": "_TNVjr9ILzdO"
   },
   "source": [
    "There are two main reasons why you want to do data preprocessing before training your machine learning model:\n",
    "\n",
    "- To satisfy the requirements of the scikit-learn api\n",
    "- To clean erroneous and missing data from datasets\n",
    "\n",
    "Hence, we will:\n",
    "\n",
    "- Remove features that we don’t want\n",
    "- Fill missing values\n",
    "- Convert categorical data features to numeric format\n",
    "- Scale numeric features"
   ]
  },
  {
   "cell_type": "markdown",
   "metadata": {
    "id": "m73cqs6TL6xf"
   },
   "source": [
    "### 1.5.1 - Remove features that we don't want"
   ]
  },
  {
   "cell_type": "markdown",
   "metadata": {
    "id": "zJ_N9wzrM2b1"
   },
   "source": [
    "**Exercise:** Complete the following lines of code marked with **TODO** (To-Do) in order to remove those features we don't want"
   ]
  },
  {
   "cell_type": "code",
   "execution_count": 48,
   "metadata": {
    "id": "nzVdMXHfMWVm"
   },
   "outputs": [],
   "source": [
    "# TODO: remove high missing value columns: 'cabin', 'boat' and 'body'\n",
    "X.drop('cabin', axis=1, inplace=True)\n",
    "X.drop('boat', axis=1, inplace=True)\n",
    "X.drop('body', axis=1, inplace=True)\n",
    " \n",
    "# TODO: remove less interesting features: 'name', 'ticket' and 'home.dest'\n",
    "X.drop('name', axis=1, inplace=True)\n",
    "X.drop('ticket', axis=1, inplace=True)\n",
    "X.drop('home.dest', axis=1, inplace=True)\n"
   ]
  },
  {
   "cell_type": "markdown",
   "metadata": {
    "id": "4MNGqyx-MCcr"
   },
   "source": [
    "### 1.5.2 - Fill missing values (imputation)"
   ]
  },
  {
   "cell_type": "markdown",
   "metadata": {
    "id": "uyevOJstMl2O"
   },
   "source": [
    "To use Scikit-learn, you should have no missing values in your dataset.\n",
    "\n",
    "Thus, using `SimpleImputer`, we will fill the missing values using the `mean` for numeric data, and the `most_frequent` value for categorical data."
   ]
  },
  {
   "cell_type": "code",
   "execution_count": 53,
   "metadata": {
    "id": "VeKzArNTNKYd"
   },
   "outputs": [
    {
     "data": {
      "text/plain": [
       "pclass             0\n",
       "sex                0\n",
       "age                0\n",
       "fare               0\n",
       "embarked           0\n",
       "travelled_alone    0\n",
       "dtype: int64"
      ]
     },
     "execution_count": 53,
     "metadata": {},
     "output_type": "execute_result"
    }
   ],
   "source": [
    "from sklearn.impute import SimpleImputer\n",
    "\n",
    "def get_parameters(df):\n",
    "    parameters = {}\n",
    "    for col in df.columns[df.isnull().any()]:\n",
    "        if df[col].dtype == 'float64' or df[col].dtype == 'int64' or df[col].dtype =='int32':\n",
    "            strategy = 'mean'\n",
    "        else:\n",
    "            strategy = 'most_frequent'\n",
    "        missing_values = df[col][df[col].isnull()].values[0]\n",
    "        parameters[col] = {'missing_values':missing_values, 'strategy':strategy}\n",
    "    return parameters\n",
    "\n",
    "parameters = get_parameters(X)\n",
    "\n",
    "for col, param in parameters.items():\n",
    "    missing_values = param['missing_values']\n",
    "    strategy = param['strategy']\n",
    "    imp = SimpleImputer(missing_values=missing_values, strategy=strategy)\n",
    "    X[col] = imp.fit_transform(X[[col]]).ravel()\n",
    "\n",
    "X.isnull().sum()"
   ]
  },
  {
   "cell_type": "markdown",
   "metadata": {
    "id": "C7oOTsHfMCgq"
   },
   "source": [
    "### 1.5.3 - Handle categorical data"
   ]
  },
  {
   "cell_type": "markdown",
   "metadata": {
    "id": "eKSKWJEYNRre"
   },
   "source": [
    "Scikit learn requires `categorical` data to be converted into continuous numeric format. Using the `pandas` `get_dummies` method, we will convert categorical features into 0s and 1s."
   ]
  },
  {
   "cell_type": "code",
   "execution_count": 54,
   "metadata": {
    "id": "aODJawwENQ_1"
   },
   "outputs": [
    {
     "data": {
      "text/html": [
       "<div>\n",
       "<style scoped>\n",
       "    .dataframe tbody tr th:only-of-type {\n",
       "        vertical-align: middle;\n",
       "    }\n",
       "\n",
       "    .dataframe tbody tr th {\n",
       "        vertical-align: top;\n",
       "    }\n",
       "\n",
       "    .dataframe thead th {\n",
       "        text-align: right;\n",
       "    }\n",
       "</style>\n",
       "<table border=\"1\" class=\"dataframe\">\n",
       "  <thead>\n",
       "    <tr style=\"text-align: right;\">\n",
       "      <th></th>\n",
       "      <th>pclass</th>\n",
       "      <th>age</th>\n",
       "      <th>fare</th>\n",
       "      <th>travelled_alone</th>\n",
       "      <th>sex_male</th>\n",
       "      <th>embarked_Q</th>\n",
       "      <th>embarked_S</th>\n",
       "    </tr>\n",
       "  </thead>\n",
       "  <tbody>\n",
       "    <tr>\n",
       "      <th>0</th>\n",
       "      <td>1</td>\n",
       "      <td>29.0000</td>\n",
       "      <td>211.3375</td>\n",
       "      <td>1.0</td>\n",
       "      <td>False</td>\n",
       "      <td>False</td>\n",
       "      <td>True</td>\n",
       "    </tr>\n",
       "    <tr>\n",
       "      <th>1</th>\n",
       "      <td>1</td>\n",
       "      <td>0.9167</td>\n",
       "      <td>151.5500</td>\n",
       "      <td>0.0</td>\n",
       "      <td>True</td>\n",
       "      <td>False</td>\n",
       "      <td>True</td>\n",
       "    </tr>\n",
       "    <tr>\n",
       "      <th>2</th>\n",
       "      <td>1</td>\n",
       "      <td>2.0000</td>\n",
       "      <td>151.5500</td>\n",
       "      <td>0.0</td>\n",
       "      <td>False</td>\n",
       "      <td>False</td>\n",
       "      <td>True</td>\n",
       "    </tr>\n",
       "    <tr>\n",
       "      <th>3</th>\n",
       "      <td>1</td>\n",
       "      <td>30.0000</td>\n",
       "      <td>151.5500</td>\n",
       "      <td>0.0</td>\n",
       "      <td>True</td>\n",
       "      <td>False</td>\n",
       "      <td>True</td>\n",
       "    </tr>\n",
       "    <tr>\n",
       "      <th>4</th>\n",
       "      <td>1</td>\n",
       "      <td>25.0000</td>\n",
       "      <td>151.5500</td>\n",
       "      <td>0.0</td>\n",
       "      <td>False</td>\n",
       "      <td>False</td>\n",
       "      <td>True</td>\n",
       "    </tr>\n",
       "  </tbody>\n",
       "</table>\n",
       "</div>"
      ],
      "text/plain": [
       "   pclass      age      fare  travelled_alone  sex_male  embarked_Q  \\\n",
       "0       1  29.0000  211.3375              1.0     False       False   \n",
       "1       1   0.9167  151.5500              0.0      True       False   \n",
       "2       1   2.0000  151.5500              0.0     False       False   \n",
       "3       1  30.0000  151.5500              0.0      True       False   \n",
       "4       1  25.0000  151.5500              0.0     False       False   \n",
       "\n",
       "   embarked_S  \n",
       "0        True  \n",
       "1        True  \n",
       "2        True  \n",
       "3        True  \n",
       "4        True  "
      ]
     },
     "execution_count": 54,
     "metadata": {},
     "output_type": "execute_result"
    }
   ],
   "source": [
    "# handle categorical data\n",
    "cat_cols = X.select_dtypes(include=['object','category']).columns\n",
    "dummies = pd.get_dummies(X[cat_cols], drop_first=True)\n",
    "X[dummies.columns] = dummies\n",
    "X.drop(cat_cols, axis=1, inplace=True)\n",
    "X.head()"
   ]
  },
  {
   "cell_type": "markdown",
   "metadata": {
    "id": "hNM6IsTKMCkm"
   },
   "source": [
    "### 1.5.4 - Scale numeric data"
   ]
  },
  {
   "cell_type": "markdown",
   "metadata": {
    "id": "5N3rsbJdNedW"
   },
   "source": [
    "To improve model performance, we will scale the numeric features so that they all have a `mean=0` and a `standard deviation = 1`."
   ]
  },
  {
   "cell_type": "markdown",
   "metadata": {
    "id": "Oo3pt6ViN9XN"
   },
   "source": [
    "**Exercise:** Complete the following lines of code marked with **TODO**."
   ]
  },
  {
   "cell_type": "code",
   "execution_count": 55,
   "metadata": {
    "id": "qF829vETNjQd"
   },
   "outputs": [],
   "source": [
    "# Scale numeric data.\n",
    "# TODO: Import the package StandardScaler from sklearn.preprocessing\n",
    "from sklearn.preprocessing import StandardScaler\n",
    "\n",
    "# Select numerical columns\n",
    "num_cols = X.select_dtypes(include=['int64', 'float64', 'int32']).columns\n",
    "\n",
    "# Apply StandardScaler\n",
    "scaler = StandardScaler()\n",
    "X[num_cols] = scaler.fit_transform(X[num_cols])"
   ]
  },
  {
   "cell_type": "markdown",
   "metadata": {
    "id": "fCjR5C2pOUdl"
   },
   "source": [
    "## 1.6 - Split into Training and Testing Sets"
   ]
  },
  {
   "cell_type": "markdown",
   "metadata": {
    "id": "__HrtvPNOdvF"
   },
   "source": [
    "We could apply the machine learning model to the entire dataset, but that wouldn’t be useful to evaluate the model performance. Instead, we split the dataset into **training** and **testing** datasets.\n",
    "\n"
   ]
  },
  {
   "cell_type": "code",
   "execution_count": 57,
   "metadata": {
    "id": "4TSbsLMbOlXN"
   },
   "outputs": [],
   "source": [
    "# TODO: import train_test_split from sklearn.model_selection. HINT: https://scikit-learn.org/stable/modules/generated/sklearn.model_selection.train_test_split.html\n",
    "from sklearn.model_selection import train_test_split\n",
    "\n",
    "# TODO: We define a random state (seed) equal to 42 (could be other number, but we put 42 for the sake of reproducibility)\n",
    "RAND_STATE = 42\n",
    "\n",
    "# TODO: Split the whole dataset intro training and testing subsets. Use a test_size of 30% and a random_state equal to RAND_STATE, defined above.\n",
    "X_train, X_test, y_train, y_test = train_test_split(X,y, random_state= RAND_STATE)"
   ]
  },
  {
   "cell_type": "markdown",
   "metadata": {
    "id": "Htes449IPIxN"
   },
   "source": [
    "## 1.7 - Classification task"
   ]
  },
  {
   "cell_type": "markdown",
   "metadata": {
    "id": "qIX_n0_JQz80"
   },
   "source": [
    "### 1.7.1 - Create classifiers"
   ]
  },
  {
   "cell_type": "markdown",
   "metadata": {
    "id": "NAZ5ZeOBPa3l"
   },
   "source": [
    "In this section, you must implement some classifiers. Here are some suggestions:\n",
    "1.   K-NN (HINT/ [sklearn - KNN](https://scikit-learn.org/stable/modules/generated/sklearn.neighbors.KNeighborsClassifier.html#sklearn.neighbors.KNeighborsClassifier))\n",
    "2.   SVM. You can try different kernels. (HINT/ [sklearn - SVM](https://scikit-learn.org/stable/modules/generated/sklearn.svm.SVC.html))\n",
    "3.   MLP (HINT/ [sklearn - MLP](https://scikit-learn.org/stable/modules/generated/sklearn.neural_network.MLPClassifier.html#sklearn.neural_network.MLPClassifier))\n",
    "\n",
    "**Note I:** Do not forget to import the required libraries.\n",
    "\n",
    "**Note II:** Implement as many classifiers as you want to practice, that's why we indicate the last classifier with \"N\". Implement at least 3 classifiers.\n",
    "\n"
   ]
  },
  {
   "cell_type": "code",
   "execution_count": 67,
   "metadata": {
    "id": "0rDo7z8uPuPd"
   },
   "outputs": [],
   "source": [
    "from sklearn.neighbors import KNeighborsClassifier\n",
    "from sklearn.svm import SVC\n",
    "from sklearn.neural_network import MLPClassifier\n",
    "\n",
    "\n",
    "cl1 =  KNeighborsClassifier(n_neighbors=5) # TODO\n",
    "cl2 =  SVC(kernel='linear') # TODO\n",
    "cl3 =  SVC(kernel='poly')\n",
    "cl4 =  SVC(kernel='rbf')\n",
    "cl5 =  SVC(kernel='sigmoid')\n",
    "clN =  MLPClassifier(activation='tanh',max_iter=1000)"
   ]
  },
  {
   "cell_type": "markdown",
   "metadata": {
    "id": "IA-KA9ECQ2jl"
   },
   "source": [
    "### 1.7.2 - Train classifiers"
   ]
  },
  {
   "cell_type": "code",
   "execution_count": 68,
   "metadata": {
    "id": "ViUXaDT0Q6hc"
   },
   "outputs": [
    {
     "data": {
      "text/html": [
       "<style>#sk-container-id-3 {\n",
       "  /* Definition of color scheme common for light and dark mode */\n",
       "  --sklearn-color-text: black;\n",
       "  --sklearn-color-line: gray;\n",
       "  /* Definition of color scheme for unfitted estimators */\n",
       "  --sklearn-color-unfitted-level-0: #fff5e6;\n",
       "  --sklearn-color-unfitted-level-1: #f6e4d2;\n",
       "  --sklearn-color-unfitted-level-2: #ffe0b3;\n",
       "  --sklearn-color-unfitted-level-3: chocolate;\n",
       "  /* Definition of color scheme for fitted estimators */\n",
       "  --sklearn-color-fitted-level-0: #f0f8ff;\n",
       "  --sklearn-color-fitted-level-1: #d4ebff;\n",
       "  --sklearn-color-fitted-level-2: #b3dbfd;\n",
       "  --sklearn-color-fitted-level-3: cornflowerblue;\n",
       "\n",
       "  /* Specific color for light theme */\n",
       "  --sklearn-color-text-on-default-background: var(--sg-text-color, var(--theme-code-foreground, var(--jp-content-font-color1, black)));\n",
       "  --sklearn-color-background: var(--sg-background-color, var(--theme-background, var(--jp-layout-color0, white)));\n",
       "  --sklearn-color-border-box: var(--sg-text-color, var(--theme-code-foreground, var(--jp-content-font-color1, black)));\n",
       "  --sklearn-color-icon: #696969;\n",
       "\n",
       "  @media (prefers-color-scheme: dark) {\n",
       "    /* Redefinition of color scheme for dark theme */\n",
       "    --sklearn-color-text-on-default-background: var(--sg-text-color, var(--theme-code-foreground, var(--jp-content-font-color1, white)));\n",
       "    --sklearn-color-background: var(--sg-background-color, var(--theme-background, var(--jp-layout-color0, #111)));\n",
       "    --sklearn-color-border-box: var(--sg-text-color, var(--theme-code-foreground, var(--jp-content-font-color1, white)));\n",
       "    --sklearn-color-icon: #878787;\n",
       "  }\n",
       "}\n",
       "\n",
       "#sk-container-id-3 {\n",
       "  color: var(--sklearn-color-text);\n",
       "}\n",
       "\n",
       "#sk-container-id-3 pre {\n",
       "  padding: 0;\n",
       "}\n",
       "\n",
       "#sk-container-id-3 input.sk-hidden--visually {\n",
       "  border: 0;\n",
       "  clip: rect(1px 1px 1px 1px);\n",
       "  clip: rect(1px, 1px, 1px, 1px);\n",
       "  height: 1px;\n",
       "  margin: -1px;\n",
       "  overflow: hidden;\n",
       "  padding: 0;\n",
       "  position: absolute;\n",
       "  width: 1px;\n",
       "}\n",
       "\n",
       "#sk-container-id-3 div.sk-dashed-wrapped {\n",
       "  border: 1px dashed var(--sklearn-color-line);\n",
       "  margin: 0 0.4em 0.5em 0.4em;\n",
       "  box-sizing: border-box;\n",
       "  padding-bottom: 0.4em;\n",
       "  background-color: var(--sklearn-color-background);\n",
       "}\n",
       "\n",
       "#sk-container-id-3 div.sk-container {\n",
       "  /* jupyter's `normalize.less` sets `[hidden] { display: none; }`\n",
       "     but bootstrap.min.css set `[hidden] { display: none !important; }`\n",
       "     so we also need the `!important` here to be able to override the\n",
       "     default hidden behavior on the sphinx rendered scikit-learn.org.\n",
       "     See: https://github.com/scikit-learn/scikit-learn/issues/21755 */\n",
       "  display: inline-block !important;\n",
       "  position: relative;\n",
       "}\n",
       "\n",
       "#sk-container-id-3 div.sk-text-repr-fallback {\n",
       "  display: none;\n",
       "}\n",
       "\n",
       "div.sk-parallel-item,\n",
       "div.sk-serial,\n",
       "div.sk-item {\n",
       "  /* draw centered vertical line to link estimators */\n",
       "  background-image: linear-gradient(var(--sklearn-color-text-on-default-background), var(--sklearn-color-text-on-default-background));\n",
       "  background-size: 2px 100%;\n",
       "  background-repeat: no-repeat;\n",
       "  background-position: center center;\n",
       "}\n",
       "\n",
       "/* Parallel-specific style estimator block */\n",
       "\n",
       "#sk-container-id-3 div.sk-parallel-item::after {\n",
       "  content: \"\";\n",
       "  width: 100%;\n",
       "  border-bottom: 2px solid var(--sklearn-color-text-on-default-background);\n",
       "  flex-grow: 1;\n",
       "}\n",
       "\n",
       "#sk-container-id-3 div.sk-parallel {\n",
       "  display: flex;\n",
       "  align-items: stretch;\n",
       "  justify-content: center;\n",
       "  background-color: var(--sklearn-color-background);\n",
       "  position: relative;\n",
       "}\n",
       "\n",
       "#sk-container-id-3 div.sk-parallel-item {\n",
       "  display: flex;\n",
       "  flex-direction: column;\n",
       "}\n",
       "\n",
       "#sk-container-id-3 div.sk-parallel-item:first-child::after {\n",
       "  align-self: flex-end;\n",
       "  width: 50%;\n",
       "}\n",
       "\n",
       "#sk-container-id-3 div.sk-parallel-item:last-child::after {\n",
       "  align-self: flex-start;\n",
       "  width: 50%;\n",
       "}\n",
       "\n",
       "#sk-container-id-3 div.sk-parallel-item:only-child::after {\n",
       "  width: 0;\n",
       "}\n",
       "\n",
       "/* Serial-specific style estimator block */\n",
       "\n",
       "#sk-container-id-3 div.sk-serial {\n",
       "  display: flex;\n",
       "  flex-direction: column;\n",
       "  align-items: center;\n",
       "  background-color: var(--sklearn-color-background);\n",
       "  padding-right: 1em;\n",
       "  padding-left: 1em;\n",
       "}\n",
       "\n",
       "\n",
       "/* Toggleable style: style used for estimator/Pipeline/ColumnTransformer box that is\n",
       "clickable and can be expanded/collapsed.\n",
       "- Pipeline and ColumnTransformer use this feature and define the default style\n",
       "- Estimators will overwrite some part of the style using the `sk-estimator` class\n",
       "*/\n",
       "\n",
       "/* Pipeline and ColumnTransformer style (default) */\n",
       "\n",
       "#sk-container-id-3 div.sk-toggleable {\n",
       "  /* Default theme specific background. It is overwritten whether we have a\n",
       "  specific estimator or a Pipeline/ColumnTransformer */\n",
       "  background-color: var(--sklearn-color-background);\n",
       "}\n",
       "\n",
       "/* Toggleable label */\n",
       "#sk-container-id-3 label.sk-toggleable__label {\n",
       "  cursor: pointer;\n",
       "  display: block;\n",
       "  width: 100%;\n",
       "  margin-bottom: 0;\n",
       "  padding: 0.5em;\n",
       "  box-sizing: border-box;\n",
       "  text-align: center;\n",
       "}\n",
       "\n",
       "#sk-container-id-3 label.sk-toggleable__label-arrow:before {\n",
       "  /* Arrow on the left of the label */\n",
       "  content: \"▸\";\n",
       "  float: left;\n",
       "  margin-right: 0.25em;\n",
       "  color: var(--sklearn-color-icon);\n",
       "}\n",
       "\n",
       "#sk-container-id-3 label.sk-toggleable__label-arrow:hover:before {\n",
       "  color: var(--sklearn-color-text);\n",
       "}\n",
       "\n",
       "/* Toggleable content - dropdown */\n",
       "\n",
       "#sk-container-id-3 div.sk-toggleable__content {\n",
       "  max-height: 0;\n",
       "  max-width: 0;\n",
       "  overflow: hidden;\n",
       "  text-align: left;\n",
       "  /* unfitted */\n",
       "  background-color: var(--sklearn-color-unfitted-level-0);\n",
       "}\n",
       "\n",
       "#sk-container-id-3 div.sk-toggleable__content.fitted {\n",
       "  /* fitted */\n",
       "  background-color: var(--sklearn-color-fitted-level-0);\n",
       "}\n",
       "\n",
       "#sk-container-id-3 div.sk-toggleable__content pre {\n",
       "  margin: 0.2em;\n",
       "  border-radius: 0.25em;\n",
       "  color: var(--sklearn-color-text);\n",
       "  /* unfitted */\n",
       "  background-color: var(--sklearn-color-unfitted-level-0);\n",
       "}\n",
       "\n",
       "#sk-container-id-3 div.sk-toggleable__content.fitted pre {\n",
       "  /* unfitted */\n",
       "  background-color: var(--sklearn-color-fitted-level-0);\n",
       "}\n",
       "\n",
       "#sk-container-id-3 input.sk-toggleable__control:checked~div.sk-toggleable__content {\n",
       "  /* Expand drop-down */\n",
       "  max-height: 200px;\n",
       "  max-width: 100%;\n",
       "  overflow: auto;\n",
       "}\n",
       "\n",
       "#sk-container-id-3 input.sk-toggleable__control:checked~label.sk-toggleable__label-arrow:before {\n",
       "  content: \"▾\";\n",
       "}\n",
       "\n",
       "/* Pipeline/ColumnTransformer-specific style */\n",
       "\n",
       "#sk-container-id-3 div.sk-label input.sk-toggleable__control:checked~label.sk-toggleable__label {\n",
       "  color: var(--sklearn-color-text);\n",
       "  background-color: var(--sklearn-color-unfitted-level-2);\n",
       "}\n",
       "\n",
       "#sk-container-id-3 div.sk-label.fitted input.sk-toggleable__control:checked~label.sk-toggleable__label {\n",
       "  background-color: var(--sklearn-color-fitted-level-2);\n",
       "}\n",
       "\n",
       "/* Estimator-specific style */\n",
       "\n",
       "/* Colorize estimator box */\n",
       "#sk-container-id-3 div.sk-estimator input.sk-toggleable__control:checked~label.sk-toggleable__label {\n",
       "  /* unfitted */\n",
       "  background-color: var(--sklearn-color-unfitted-level-2);\n",
       "}\n",
       "\n",
       "#sk-container-id-3 div.sk-estimator.fitted input.sk-toggleable__control:checked~label.sk-toggleable__label {\n",
       "  /* fitted */\n",
       "  background-color: var(--sklearn-color-fitted-level-2);\n",
       "}\n",
       "\n",
       "#sk-container-id-3 div.sk-label label.sk-toggleable__label,\n",
       "#sk-container-id-3 div.sk-label label {\n",
       "  /* The background is the default theme color */\n",
       "  color: var(--sklearn-color-text-on-default-background);\n",
       "}\n",
       "\n",
       "/* On hover, darken the color of the background */\n",
       "#sk-container-id-3 div.sk-label:hover label.sk-toggleable__label {\n",
       "  color: var(--sklearn-color-text);\n",
       "  background-color: var(--sklearn-color-unfitted-level-2);\n",
       "}\n",
       "\n",
       "/* Label box, darken color on hover, fitted */\n",
       "#sk-container-id-3 div.sk-label.fitted:hover label.sk-toggleable__label.fitted {\n",
       "  color: var(--sklearn-color-text);\n",
       "  background-color: var(--sklearn-color-fitted-level-2);\n",
       "}\n",
       "\n",
       "/* Estimator label */\n",
       "\n",
       "#sk-container-id-3 div.sk-label label {\n",
       "  font-family: monospace;\n",
       "  font-weight: bold;\n",
       "  display: inline-block;\n",
       "  line-height: 1.2em;\n",
       "}\n",
       "\n",
       "#sk-container-id-3 div.sk-label-container {\n",
       "  text-align: center;\n",
       "}\n",
       "\n",
       "/* Estimator-specific */\n",
       "#sk-container-id-3 div.sk-estimator {\n",
       "  font-family: monospace;\n",
       "  border: 1px dotted var(--sklearn-color-border-box);\n",
       "  border-radius: 0.25em;\n",
       "  box-sizing: border-box;\n",
       "  margin-bottom: 0.5em;\n",
       "  /* unfitted */\n",
       "  background-color: var(--sklearn-color-unfitted-level-0);\n",
       "}\n",
       "\n",
       "#sk-container-id-3 div.sk-estimator.fitted {\n",
       "  /* fitted */\n",
       "  background-color: var(--sklearn-color-fitted-level-0);\n",
       "}\n",
       "\n",
       "/* on hover */\n",
       "#sk-container-id-3 div.sk-estimator:hover {\n",
       "  /* unfitted */\n",
       "  background-color: var(--sklearn-color-unfitted-level-2);\n",
       "}\n",
       "\n",
       "#sk-container-id-3 div.sk-estimator.fitted:hover {\n",
       "  /* fitted */\n",
       "  background-color: var(--sklearn-color-fitted-level-2);\n",
       "}\n",
       "\n",
       "/* Specification for estimator info (e.g. \"i\" and \"?\") */\n",
       "\n",
       "/* Common style for \"i\" and \"?\" */\n",
       "\n",
       ".sk-estimator-doc-link,\n",
       "a:link.sk-estimator-doc-link,\n",
       "a:visited.sk-estimator-doc-link {\n",
       "  float: right;\n",
       "  font-size: smaller;\n",
       "  line-height: 1em;\n",
       "  font-family: monospace;\n",
       "  background-color: var(--sklearn-color-background);\n",
       "  border-radius: 1em;\n",
       "  height: 1em;\n",
       "  width: 1em;\n",
       "  text-decoration: none !important;\n",
       "  margin-left: 1ex;\n",
       "  /* unfitted */\n",
       "  border: var(--sklearn-color-unfitted-level-1) 1pt solid;\n",
       "  color: var(--sklearn-color-unfitted-level-1);\n",
       "}\n",
       "\n",
       ".sk-estimator-doc-link.fitted,\n",
       "a:link.sk-estimator-doc-link.fitted,\n",
       "a:visited.sk-estimator-doc-link.fitted {\n",
       "  /* fitted */\n",
       "  border: var(--sklearn-color-fitted-level-1) 1pt solid;\n",
       "  color: var(--sklearn-color-fitted-level-1);\n",
       "}\n",
       "\n",
       "/* On hover */\n",
       "div.sk-estimator:hover .sk-estimator-doc-link:hover,\n",
       ".sk-estimator-doc-link:hover,\n",
       "div.sk-label-container:hover .sk-estimator-doc-link:hover,\n",
       ".sk-estimator-doc-link:hover {\n",
       "  /* unfitted */\n",
       "  background-color: var(--sklearn-color-unfitted-level-3);\n",
       "  color: var(--sklearn-color-background);\n",
       "  text-decoration: none;\n",
       "}\n",
       "\n",
       "div.sk-estimator.fitted:hover .sk-estimator-doc-link.fitted:hover,\n",
       ".sk-estimator-doc-link.fitted:hover,\n",
       "div.sk-label-container:hover .sk-estimator-doc-link.fitted:hover,\n",
       ".sk-estimator-doc-link.fitted:hover {\n",
       "  /* fitted */\n",
       "  background-color: var(--sklearn-color-fitted-level-3);\n",
       "  color: var(--sklearn-color-background);\n",
       "  text-decoration: none;\n",
       "}\n",
       "\n",
       "/* Span, style for the box shown on hovering the info icon */\n",
       ".sk-estimator-doc-link span {\n",
       "  display: none;\n",
       "  z-index: 9999;\n",
       "  position: relative;\n",
       "  font-weight: normal;\n",
       "  right: .2ex;\n",
       "  padding: .5ex;\n",
       "  margin: .5ex;\n",
       "  width: min-content;\n",
       "  min-width: 20ex;\n",
       "  max-width: 50ex;\n",
       "  color: var(--sklearn-color-text);\n",
       "  box-shadow: 2pt 2pt 4pt #999;\n",
       "  /* unfitted */\n",
       "  background: var(--sklearn-color-unfitted-level-0);\n",
       "  border: .5pt solid var(--sklearn-color-unfitted-level-3);\n",
       "}\n",
       "\n",
       ".sk-estimator-doc-link.fitted span {\n",
       "  /* fitted */\n",
       "  background: var(--sklearn-color-fitted-level-0);\n",
       "  border: var(--sklearn-color-fitted-level-3);\n",
       "}\n",
       "\n",
       ".sk-estimator-doc-link:hover span {\n",
       "  display: block;\n",
       "}\n",
       "\n",
       "/* \"?\"-specific style due to the `<a>` HTML tag */\n",
       "\n",
       "#sk-container-id-3 a.estimator_doc_link {\n",
       "  float: right;\n",
       "  font-size: 1rem;\n",
       "  line-height: 1em;\n",
       "  font-family: monospace;\n",
       "  background-color: var(--sklearn-color-background);\n",
       "  border-radius: 1rem;\n",
       "  height: 1rem;\n",
       "  width: 1rem;\n",
       "  text-decoration: none;\n",
       "  /* unfitted */\n",
       "  color: var(--sklearn-color-unfitted-level-1);\n",
       "  border: var(--sklearn-color-unfitted-level-1) 1pt solid;\n",
       "}\n",
       "\n",
       "#sk-container-id-3 a.estimator_doc_link.fitted {\n",
       "  /* fitted */\n",
       "  border: var(--sklearn-color-fitted-level-1) 1pt solid;\n",
       "  color: var(--sklearn-color-fitted-level-1);\n",
       "}\n",
       "\n",
       "/* On hover */\n",
       "#sk-container-id-3 a.estimator_doc_link:hover {\n",
       "  /* unfitted */\n",
       "  background-color: var(--sklearn-color-unfitted-level-3);\n",
       "  color: var(--sklearn-color-background);\n",
       "  text-decoration: none;\n",
       "}\n",
       "\n",
       "#sk-container-id-3 a.estimator_doc_link.fitted:hover {\n",
       "  /* fitted */\n",
       "  background-color: var(--sklearn-color-fitted-level-3);\n",
       "}\n",
       "</style><div id=\"sk-container-id-3\" class=\"sk-top-container\"><div class=\"sk-text-repr-fallback\"><pre>MLPClassifier(activation=&#x27;tanh&#x27;, max_iter=1000)</pre><b>In a Jupyter environment, please rerun this cell to show the HTML representation or trust the notebook. <br />On GitHub, the HTML representation is unable to render, please try loading this page with nbviewer.org.</b></div><div class=\"sk-container\" hidden><div class=\"sk-item\"><div class=\"sk-estimator fitted sk-toggleable\"><input class=\"sk-toggleable__control sk-hidden--visually\" id=\"sk-estimator-id-3\" type=\"checkbox\" checked><label for=\"sk-estimator-id-3\" class=\"sk-toggleable__label fitted sk-toggleable__label-arrow fitted\">&nbsp;&nbsp;MLPClassifier<a class=\"sk-estimator-doc-link fitted\" rel=\"noreferrer\" target=\"_blank\" href=\"https://scikit-learn.org/1.5/modules/generated/sklearn.neural_network.MLPClassifier.html\">?<span>Documentation for MLPClassifier</span></a><span class=\"sk-estimator-doc-link fitted\">i<span>Fitted</span></span></label><div class=\"sk-toggleable__content fitted\"><pre>MLPClassifier(activation=&#x27;tanh&#x27;, max_iter=1000)</pre></div> </div></div></div></div>"
      ],
      "text/plain": [
       "MLPClassifier(activation='tanh', max_iter=1000)"
      ]
     },
     "execution_count": 68,
     "metadata": {},
     "output_type": "execute_result"
    }
   ],
   "source": [
    "# TODO: Train (fit) each classifier with default configurations. Hint: see the \"fit\" method in each of the sklearn classifier documentations.\n",
    "cl1.fit(X_train,y_train)\n",
    "cl2.fit(X_train,y_train)\n",
    "cl3.fit(X_train,y_train)\n",
    "cl4.fit(X_train,y_train)\n",
    "cl5.fit(X_train,y_train)\n",
    "clN.fit(X_train,y_train)"
   ]
  },
  {
   "cell_type": "markdown",
   "metadata": {
    "id": "Ck8VOySeR7xr"
   },
   "source": [
    "### 1.7.3 - Measure performance of the model"
   ]
  },
  {
   "cell_type": "markdown",
   "metadata": {
    "id": "szhv8-fFSJ77"
   },
   "source": [
    "In order to measure the performance of the metric, let's predict with our model our **test** set"
   ]
  },
  {
   "cell_type": "code",
   "execution_count": 70,
   "metadata": {
    "id": "gp_MwRKoR7Kz"
   },
   "outputs": [],
   "source": [
    "from sklearn.metrics import accuracy_score\n",
    "# Predict\n",
    "yhat_cl1_test = cl1.predict(X_test)\n",
    "yhat_cl2_test = cl2.predict(X_test)\n",
    "yhat_cl3_test = cl3.predict(X_test)\n",
    "yhat_cl4_test = cl4.predict(X_test)\n",
    "yhat_cl5_test = cl5.predict(X_test)\n",
    "\n",
    "yhat_clN_test = clN.predict(X_test)\n",
    "# Compute metrics (accuracy)\n",
    "acc_cl1 = accuracy_score(y_test, yhat_cl1_test)\n",
    "acc_cl2 = accuracy_score(y_test, yhat_cl2_test)\n",
    "acc_cl3 = accuracy_score(y_test, yhat_cl3_test)\n",
    "acc_cl4 = accuracy_score(y_test, yhat_cl4_test)\n",
    "acc_cl5 = accuracy_score(y_test, yhat_cl5_test)\n",
    "acc_clN = accuracy_score(y_test, yhat_clN_test)"
   ]
  },
  {
   "cell_type": "code",
   "execution_count": 71,
   "metadata": {
    "id": "vHxQqogxTQmD"
   },
   "outputs": [
    {
     "name": "stdout",
     "output_type": "stream",
     "text": [
      "Test ACC cl1: 0.7560975609756098\n",
      "Test ACC cl2: 0.7804878048780488\n",
      "Test ACC cl3: 0.7774390243902439\n",
      "Test ACC cl4: 0.7926829268292683\n",
      "Test ACC cl5: 0.6707317073170732\n",
      "Test ACC clN: 0.7804878048780488\n"
     ]
    }
   ],
   "source": [
    "print('Test ACC cl1:', acc_cl1)\n",
    "print('Test ACC cl2:', acc_cl2)\n",
    "print('Test ACC cl3:', acc_cl3)\n",
    "print('Test ACC cl4:', acc_cl4)\n",
    "print('Test ACC cl5:', acc_cl5)\n",
    "\n",
    "\n",
    "print('Test ACC clN:', acc_clN)"
   ]
  },
  {
   "cell_type": "markdown",
   "metadata": {
    "id": "qu31oN8UTyrD"
   },
   "source": [
    "The model with the best accuracy score is the one who better performed on the **test** set, yielding a better generalization to new data. The process is stochastic, so each time we train a model, we can obtain different results."
   ]
  },
  {
   "cell_type": "markdown",
   "metadata": {
    "id": "Bp1EsomzEq0x"
   },
   "source": [
    "# PART 2 - A quick glance at manual feature extraction"
   ]
  },
  {
   "cell_type": "markdown",
   "metadata": {
    "id": "dM5xPF9LUjyr"
   },
   "source": [
    "In this other part of the workshop, we are going to manually extract some features from some sample medical images."
   ]
  },
  {
   "cell_type": "markdown",
   "metadata": {
    "id": "skn-WikqWxVx"
   },
   "source": [
    "## 2.1 - Load images"
   ]
  },
  {
   "cell_type": "markdown",
   "metadata": {
    "id": "vnFrJjAD5psN"
   },
   "source": [
    "At this point, upload the `.png` and .jpg files downloaded from Moodle to Google Colab (in the left menu, click on *Files*/*Upload* to upload the files)"
   ]
  },
  {
   "cell_type": "markdown",
   "metadata": {
    "id": "C1QrzIhRDHbK"
   },
   "source": [
    "**Exercise:** Complete the following lines of code marked with **TODO**."
   ]
  },
  {
   "cell_type": "code",
   "execution_count": 72,
   "metadata": {
    "id": "JgKf8GBJExOR"
   },
   "outputs": [],
   "source": [
    "# TODO: import imread from skimage.io\n",
    "from skimage.io import imread\n",
    "\n",
    "# Read images\n",
    "img1 = imread('angio-mri.png')\n",
    "img2 = imread('cxr.png')\n",
    "img3 = imread('fundus.jpg')"
   ]
  },
  {
   "cell_type": "markdown",
   "metadata": {
    "id": "e425sDr7W1K5"
   },
   "source": [
    "## 2.2 - Preprocess images"
   ]
  },
  {
   "cell_type": "markdown",
   "metadata": {
    "id": "kF6yjyV2YzRo"
   },
   "source": [
    "Here, we are going to preprocess the images so that our input images are 256x256 (grayscale)"
   ]
  },
  {
   "cell_type": "code",
   "execution_count": 73,
   "metadata": {
    "id": "QeqbRg8WW2k_"
   },
   "outputs": [],
   "source": [
    "import cv2\n",
    "from skimage.transform import resize\n",
    "from skimage.color import rgb2gray\n",
    "\n",
    "def preprocess_img(img, fundus=False, angio=False):\n",
    "  if fundus:\n",
    "    img = rgb2gray(img)\n",
    "  elif angio:\n",
    "    img = img[:,:,0]\n",
    "  img = resize(img, (256,256))  # Resize images to 256x256\n",
    "  img = cv2.normalize(img,None,0,255,cv2.NORM_MINMAX).astype(np.uint8)  # Restore the values from 0-1 to 0-255 (uint8 data type)\n",
    "  return img"
   ]
  },
  {
   "cell_type": "code",
   "execution_count": 74,
   "metadata": {
    "id": "wSdkTDZwXhpZ"
   },
   "outputs": [
    {
     "name": "stdout",
     "output_type": "stream",
     "text": [
      "img1 shape:  (256, 256)\n",
      "img2 shape:  (256, 256)\n",
      "img3 shape:  (256, 256)\n"
     ]
    }
   ],
   "source": [
    "img1 = preprocess_img(img1, angio=True)\n",
    "img2 = preprocess_img(img2)\n",
    "img3 = preprocess_img(img3, fundus=True)\n",
    "\n",
    "# Shapes\n",
    "print(\"img1 shape: \", img1.shape)\n",
    "print(\"img2 shape: \", img2.shape)\n",
    "print(\"img3 shape: \", img3.shape)"
   ]
  },
  {
   "cell_type": "markdown",
   "metadata": {
    "id": "j5YE_zaXY44o"
   },
   "source": [
    "## 2.3 - Visualize images"
   ]
  },
  {
   "cell_type": "code",
   "execution_count": 75,
   "metadata": {
    "id": "GOvf5SdgX-yH"
   },
   "outputs": [
    {
     "data": {
      "image/png": "[encoded data removed]",
      "text/plain": [
       "<Figure size 800x400 with 3 Axes>"
      ]
     },
     "metadata": {},
     "output_type": "display_data"
    }
   ],
   "source": [
    "plt.figure(figsize=(8,4))\n",
    "for i, img in enumerate([img1, img2, img3]):\n",
    "  plt.subplot(1,3,i+1)\n",
    "  plt.imshow(img,'gray')"
   ]
  },
  {
   "cell_type": "markdown",
   "metadata": {
    "id": "uhMAdCcsZfbv"
   },
   "source": [
    "## 2.4 - Manual extraction of features"
   ]
  },
  {
   "cell_type": "markdown",
   "metadata": {
    "id": "6pfVlpk9ZyNw"
   },
   "source": [
    "Here, we are going to extract features from these three images. For feature extraction, you can use any numerical operation on arrays (images) you consider. Additionally, you can use [feature module](https://scikit-image.org/docs/dev/api/skimage.feature.html) from skimage package. Remember to import the feature module, everything will be easier!"
   ]
  },
  {
   "cell_type": "markdown",
   "metadata": {
    "id": "TECey3egasCA"
   },
   "source": [
    "**Exercise:** Complete the following lines to perform a feature extraction on the given images. It is up to you which and how many features you choose for this exercise."
   ]
  },
  {
   "cell_type": "code",
   "execution_count": null,
   "metadata": {
    "id": "JOoFpV32XrOo"
   },
   "outputs": [
    {
     "ename": "TypeError",
     "evalue": "local_binary_pattern() missing 2 required positional arguments: 'P' and 'R'",
     "output_type": "error",
     "traceback": [
      "\u001b[1;31m---------------------------------------------------------------------------\u001b[0m",
      "\u001b[1;31mTypeError\u001b[0m                                 Traceback (most recent call last)",
      "Cell \u001b[1;32mIn[80], line 7\u001b[0m\n\u001b[0;32m      5\u001b[0m feat1_img1 \u001b[38;5;241m=\u001b[39m feature\u001b[38;5;241m.\u001b[39mgraycomatrix(img1,distances\u001b[38;5;241m=\u001b[39m [\u001b[38;5;241m1\u001b[39m], angles\u001b[38;5;241m=\u001b[39m [\u001b[38;5;241m0\u001b[39m, np\u001b[38;5;241m.\u001b[39mpi\u001b[38;5;241m/\u001b[39m\u001b[38;5;241m4\u001b[39m, np\u001b[38;5;241m.\u001b[39mpi\u001b[38;5;241m/\u001b[39m\u001b[38;5;241m2\u001b[39m, \u001b[38;5;241m3\u001b[39m\u001b[38;5;241m*\u001b[39mnp\u001b[38;5;241m.\u001b[39mpi\u001b[38;5;241m/\u001b[39m\u001b[38;5;241m4\u001b[39m])\n\u001b[0;32m      6\u001b[0m feat2_img1 \u001b[38;5;241m=\u001b[39m feature\u001b[38;5;241m.\u001b[39mhog(img1)\n\u001b[1;32m----> 7\u001b[0m featN_img1 \u001b[38;5;241m=\u001b[39m \u001b[43mfeature\u001b[49m\u001b[38;5;241;43m.\u001b[39;49m\u001b[43mlocal_binary_pattern\u001b[49m\u001b[43m(\u001b[49m\u001b[43mimg1\u001b[49m\u001b[43m)\u001b[49m\n\u001b[0;32m      8\u001b[0m \u001b[38;5;66;03m# image 2\u001b[39;00m\n\u001b[0;32m      9\u001b[0m feat1_img2 \u001b[38;5;241m=\u001b[39m feature\u001b[38;5;241m.\u001b[39mgraycomatrix(img2,distances\u001b[38;5;241m=\u001b[39m [\u001b[38;5;241m1\u001b[39m], angles\u001b[38;5;241m=\u001b[39m [\u001b[38;5;241m0\u001b[39m, np\u001b[38;5;241m.\u001b[39mpi\u001b[38;5;241m/\u001b[39m\u001b[38;5;241m4\u001b[39m, np\u001b[38;5;241m.\u001b[39mpi\u001b[38;5;241m/\u001b[39m\u001b[38;5;241m2\u001b[39m, \u001b[38;5;241m3\u001b[39m\u001b[38;5;241m*\u001b[39mnp\u001b[38;5;241m.\u001b[39mpi\u001b[38;5;241m/\u001b[39m\u001b[38;5;241m4\u001b[39m])\n",
      "\u001b[1;31mTypeError\u001b[0m: local_binary_pattern() missing 2 required positional arguments: 'P' and 'R'"
     ]
    }
   ],
   "source": [
    "# TODO: import the feature module from skimage package\n",
    "from skimage import feature\n",
    "\n",
    "# image 1\n",
    "feat1_img1 = feature.graycomatrix(img1,distances= [1], angles= [0, np.pi/4, np.pi/2, 3*np.pi/4])\n",
    "feat2_img1 = feature.hog(img1)\n",
    "featN_img1 = feature.local_binary_pattern(img1, P=4,R=4)\n",
    "# image 2\n",
    "feat1_img2 = feature.graycomatrix(img2,distances= [1], angles= [0, np.pi/4, np.pi/2, 3*np.pi/4])\n",
    "feat2_img2 = feature.hog(img2)\n",
    "featN_img2 = feature.local_binary_pattern(img2, P=4,R=4)\n",
    "# image 3\n",
    "feat1_img3 = feature.graycomatrix(img3,distances= [1], angles= [0, np.pi/4, np.pi/2, 3*np.pi/4])\n",
    "feat2_img3 = feature.hog(img3)\n",
    "featN_img3 = feature.local_binary_pattern(img3, P=4,R=4)"
   ]
  },
  {
   "cell_type": "markdown",
   "metadata": {
    "id": "QQOAGoJ4cJ19"
   },
   "source": [
    "## 2.5 - Visualize features extracted"
   ]
  },
  {
   "cell_type": "code",
   "execution_count": null,
   "metadata": {
    "id": "UizqnxvjbuIv"
   },
   "outputs": [],
   "source": [
    "# image\n",
    "print(\"feat1_img1 shape: \", feat1_img1.shape)\n",
    "print(\"feat2_img1 shape: \", feat2_img1.shape)\n",
    "print(\"featN_img1 shape: \", featN_img1.shape)\n",
    "print(\"feat1_img2 shape: \", feat1_img2.shape)\n",
    "print(\"feat2_img2 shape: \", feat2_img2.shape)\n",
    "print(\"featN_img2 shape: \", featN_img2.shape)\n",
    "print(\"feat1_img3 shape: \", feat1_img3.shape)\n",
    "print(\"feat2_img3 shape: \", feat2_img3.shape)\n",
    "print(\"featN_img3 shape: \", featN_img3.shape)"
   ]
  },
  {
   "cell_type": "code",
   "execution_count": null,
   "metadata": {
    "id": "DkQoDrBo-l0A"
   },
   "outputs": [],
   "source": [
    "# In case you performed Local Binary Pattern or other operation which yielded a 256x256 output,\n",
    "# uncomment the line below to visualize the feature map extracted (adjust the variable in which\n",
    "# you have stored the result to visualize correctly)\n",
    "# plt.imshow(feat1_img1)"
   ]
  },
  {
   "cell_type": "markdown",
   "metadata": {
    "id": "3KO0Q0XxkAPo"
   },
   "source": [
    "# PART 3 - Playing aroung with a Multilayer Perceptron (MLP) and training parameters"
   ]
  },
  {
   "cell_type": "markdown",
   "metadata": {
    "id": "PlGskJ-KuvIX"
   },
   "source": [
    "In this final part, we are going to play around with a simple MLP through TensorFlow's playground:\n",
    "\n",
    "https://playground.tensorflow.org/\n",
    "\n",
    "Here, you will be able to play with an MLP by adding layers, neurons, modifying the activation functions applied after each layer, explore how different regularization techniques impact on the training, explore how the training changes with the learning rate, etc.\n",
    "\n",
    "For this task, answer the following questions:"
   ]
  },
  {
   "cell_type": "markdown",
   "metadata": {
    "id": "LkT0cx1nvpGa"
   },
   "source": [
    "\n",
    "---\n",
    "\n",
    "**Q1. For a classification problem, find an optimal configuration that allows your model to converge. Explore different configurations and detail what is the optimal settings achieved. You can lose the test loss as a metric to decide which configuration was optimal. Attach a screenshot of your set-up and result, AND detail the configurations employed (input data settings, number of layers, neurons per layer, learning rate, activation function, regularization, etc.).**"
   ]
  },
  {
   "cell_type": "markdown",
   "metadata": {
    "id": "RVjlpDtDw6JM"
   },
   "source": [
    "Write here your answer"
   ]
  },
  {
   "cell_type": "markdown",
   "metadata": {
    "id": "pbYKRmjrxT8a"
   },
   "source": [
    "---\n",
    "**Q2. For a classification problem, find a configuration that prevents your model from converging. Explore different configurations if needed. Attach a screenshot of your set-up and result, AND detail the configurations employed (input data settings, number of layers, neurons per layer, learning rate, activation function, regularization, etc.). Why is the model not converging with your configuration?**"
   ]
  },
  {
   "cell_type": "markdown",
   "metadata": {
    "id": "BRgv6FMA_P0s"
   },
   "source": [
    "Write here your answer"
   ]
  },
  {
   "cell_type": "markdown",
   "metadata": {
    "id": "ffL-F9Eekfzu"
   },
   "source": [
    "# [RECOMMENDED] Useful Resources"
   ]
  },
  {
   "cell_type": "markdown",
   "metadata": {
    "id": "_BEKl5pDklHy"
   },
   "source": [
    "Finally, please find below some useful resources that may be of interest to you in order to expand your knowledge about ML & DL:\n",
    "1. Visual intuition of CNN layers:\n",
    "  - Convolutions: https://deeplizard.com/resource/pavq7noze2\n",
    "  - MaxPooling: https://deeplizard.com/resource/pavq7noze3\n",
    "  - Transposed Convolution: https://deeplizard.com/resource/pavq7noze4\n",
    "  - Upsampling: https://deeplizard.com/resource/pavq7noze5\n",
    "2. ConvNet playground (activate adv. options): https://convnetplayground.fastforwardlabs.com/#/\n",
    "3. CNN Explainer: https://poloclub.github.io/cnn-explainer/\n"
   ]
  }
 ],
 "metadata": {
  "accelerator": "GPU",
  "colab": {
   "collapsed_sections": [
    "pcLKNDYxH0EA",
    "0o8DJpIrJi-3",
    "uYthnGhRJwC3",
    "iKxL9XUkLUoe",
    "C7oOTsHfMCgq",
    "fCjR5C2pOUdl",
    "Htes449IPIxN",
    "qIX_n0_JQz80",
    "IA-KA9ECQ2jl",
    "Ck8VOySeR7xr",
    "skn-WikqWxVx",
    "e425sDr7W1K5",
    "j5YE_zaXY44o",
    "uhMAdCcsZfbv"
   ],
   "include_colab_link": true,
   "provenance": [],
   "toc_visible": true
  },
  "gpuClass": "standard",
  "kernelspec": {
   "display_name": "Python 3",
   "language": "python",
   "name": "python3"
  },
  "language_info": {
   "codemirror_mode": {
    "name": "ipython",
    "version": 3
   },
   "file_extension": ".py",
   "mimetype": "text/x-python",
   "name": "python",
   "nbconvert_exporter": "python",
   "pygments_lexer": "ipython3",
   "version": "3.11.8"
  }
 },
 "nbformat": 4,
 "nbformat_minor": 0
}
